{
 "cells": [
  {
   "cell_type": "code",
   "execution_count": 2,
   "metadata": {},
   "outputs": [
    {
     "ename": "ImportError",
     "evalue": "cannot import name 'network' from 'tensorflow.python.keras.engine' (C:\\Users\\miles\\school\\cs5510\\venv\\lib\\site-packages\\tensorflow\\python\\keras\\engine\\__init__.py)",
     "output_type": "error",
     "traceback": [
      "\u001b[1;31m---------------------------------------------------------------------------\u001b[0m",
      "\u001b[1;31mImportError\u001b[0m                               Traceback (most recent call last)",
      "Cell \u001b[1;32mIn[2], line 2\u001b[0m\n\u001b[0;32m      1\u001b[0m \u001b[38;5;28;01mfrom\u001b[39;00m \u001b[38;5;21;01mtensorflow\u001b[39;00m\u001b[38;5;21;01m.\u001b[39;00m\u001b[38;5;21;01mkeras\u001b[39;00m\u001b[38;5;21;01m.\u001b[39;00m\u001b[38;5;21;01mlayers\u001b[39;00m \u001b[38;5;28;01mimport\u001b[39;00m Dense\n\u001b[1;32m----> 2\u001b[0m \u001b[38;5;28;01mfrom\u001b[39;00m \u001b[38;5;21;01mtf_agents\u001b[39;00m\u001b[38;5;21;01m.\u001b[39;00m\u001b[38;5;21;01menvironments\u001b[39;00m \u001b[38;5;28;01mimport\u001b[39;00m suite_gym\n\u001b[0;32m      3\u001b[0m \u001b[38;5;28;01mfrom\u001b[39;00m \u001b[38;5;21;01mtf_agents\u001b[39;00m\u001b[38;5;21;01m.\u001b[39;00m\u001b[38;5;21;01menvironments\u001b[39;00m \u001b[38;5;28;01mimport\u001b[39;00m tf_py_environment\n\u001b[0;32m      4\u001b[0m \u001b[38;5;28;01mfrom\u001b[39;00m \u001b[38;5;21;01mtf_agents\u001b[39;00m\u001b[38;5;21;01m.\u001b[39;00m\u001b[38;5;21;01mspecs\u001b[39;00m \u001b[38;5;28;01mimport\u001b[39;00m tensor_spec\n",
      "File \u001b[1;32m~\\school\\cs5510\\venv\\lib\\site-packages\\tf_agents\\environments\\__init__.py:26\u001b[0m\n\u001b[0;32m     24\u001b[0m \u001b[38;5;28;01mfrom\u001b[39;00m \u001b[38;5;21;01mtf_agents\u001b[39;00m\u001b[38;5;21;01m.\u001b[39;00m\u001b[38;5;21;01menvironments\u001b[39;00m \u001b[38;5;28;01mimport\u001b[39;00m tf_py_environment\n\u001b[0;32m     25\u001b[0m \u001b[38;5;28;01mfrom\u001b[39;00m \u001b[38;5;21;01mtf_agents\u001b[39;00m\u001b[38;5;21;01m.\u001b[39;00m\u001b[38;5;21;01menvironments\u001b[39;00m \u001b[38;5;28;01mimport\u001b[39;00m trajectory_replay\n\u001b[1;32m---> 26\u001b[0m \u001b[38;5;28;01mfrom\u001b[39;00m \u001b[38;5;21;01mtf_agents\u001b[39;00m\u001b[38;5;21;01m.\u001b[39;00m\u001b[38;5;21;01menvironments\u001b[39;00m \u001b[38;5;28;01mimport\u001b[39;00m utils\n\u001b[0;32m     27\u001b[0m \u001b[38;5;28;01mfrom\u001b[39;00m \u001b[38;5;21;01mtf_agents\u001b[39;00m\u001b[38;5;21;01m.\u001b[39;00m\u001b[38;5;21;01menvironments\u001b[39;00m \u001b[38;5;28;01mimport\u001b[39;00m wrappers\n",
      "File \u001b[1;32m~\\school\\cs5510\\venv\\lib\\site-packages\\tf_agents\\environments\\utils.py:25\u001b[0m\n\u001b[0;32m     23\u001b[0m \u001b[38;5;28;01mfrom\u001b[39;00m \u001b[38;5;21;01mtf_agents\u001b[39;00m\u001b[38;5;21;01m.\u001b[39;00m\u001b[38;5;21;01menvironments\u001b[39;00m \u001b[38;5;28;01mimport\u001b[39;00m tf_environment\n\u001b[0;32m     24\u001b[0m \u001b[38;5;28;01mfrom\u001b[39;00m \u001b[38;5;21;01mtf_agents\u001b[39;00m\u001b[38;5;21;01m.\u001b[39;00m\u001b[38;5;21;01menvironments\u001b[39;00m \u001b[38;5;28;01mimport\u001b[39;00m tf_py_environment\n\u001b[1;32m---> 25\u001b[0m \u001b[38;5;28;01mfrom\u001b[39;00m \u001b[38;5;21;01mtf_agents\u001b[39;00m\u001b[38;5;21;01m.\u001b[39;00m\u001b[38;5;21;01mpolicies\u001b[39;00m \u001b[38;5;28;01mimport\u001b[39;00m random_py_policy\n\u001b[0;32m     26\u001b[0m \u001b[38;5;28;01mfrom\u001b[39;00m \u001b[38;5;21;01mtf_agents\u001b[39;00m\u001b[38;5;21;01m.\u001b[39;00m\u001b[38;5;21;01mspecs\u001b[39;00m \u001b[38;5;28;01mimport\u001b[39;00m array_spec\n\u001b[0;32m     29\u001b[0m \u001b[38;5;28;01mdef\u001b[39;00m \u001b[38;5;21mget_tf_env\u001b[39m(environment):\n",
      "File \u001b[1;32m~\\school\\cs5510\\venv\\lib\\site-packages\\tf_agents\\policies\\__init__.py:18\u001b[0m\n\u001b[0;32m      1\u001b[0m \u001b[38;5;66;03m# coding=utf-8\u001b[39;00m\n\u001b[0;32m      2\u001b[0m \u001b[38;5;66;03m# Copyright 2018 The TF-Agents Authors.\u001b[39;00m\n\u001b[0;32m      3\u001b[0m \u001b[38;5;66;03m#\u001b[39;00m\n\u001b[1;32m   (...)\u001b[0m\n\u001b[0;32m     13\u001b[0m \u001b[38;5;66;03m# See the License for the specific language governing permissions and\u001b[39;00m\n\u001b[0;32m     14\u001b[0m \u001b[38;5;66;03m# limitations under the License.\u001b[39;00m\n\u001b[0;32m     16\u001b[0m \u001b[38;5;124;03m\"\"\"Policies Module.\"\"\"\u001b[39;00m\n\u001b[1;32m---> 18\u001b[0m \u001b[38;5;28;01mfrom\u001b[39;00m \u001b[38;5;21;01mtf_agents\u001b[39;00m\u001b[38;5;21;01m.\u001b[39;00m\u001b[38;5;21;01mpolicies\u001b[39;00m \u001b[38;5;28;01mimport\u001b[39;00m actor_policy\n\u001b[0;32m     19\u001b[0m \u001b[38;5;28;01mfrom\u001b[39;00m \u001b[38;5;21;01mtf_agents\u001b[39;00m\u001b[38;5;21;01m.\u001b[39;00m\u001b[38;5;21;01mpolicies\u001b[39;00m \u001b[38;5;28;01mimport\u001b[39;00m boltzmann_policy\n\u001b[0;32m     20\u001b[0m \u001b[38;5;28;01mfrom\u001b[39;00m \u001b[38;5;21;01mtf_agents\u001b[39;00m\u001b[38;5;21;01m.\u001b[39;00m\u001b[38;5;21;01mpolicies\u001b[39;00m \u001b[38;5;28;01mimport\u001b[39;00m epsilon_greedy_policy\n",
      "File \u001b[1;32m~\\school\\cs5510\\venv\\lib\\site-packages\\tf_agents\\policies\\actor_policy.py:29\u001b[0m\n\u001b[0;32m     26\u001b[0m \u001b[38;5;28;01mimport\u001b[39;00m \u001b[38;5;21;01mtensorflow\u001b[39;00m \u001b[38;5;28;01mas\u001b[39;00m \u001b[38;5;21;01mtf\u001b[39;00m  \u001b[38;5;66;03m# pylint: disable=g-explicit-tensorflow-version-import\u001b[39;00m\n\u001b[0;32m     27\u001b[0m \u001b[38;5;28;01mimport\u001b[39;00m \u001b[38;5;21;01mtensorflow_probability\u001b[39;00m \u001b[38;5;28;01mas\u001b[39;00m \u001b[38;5;21;01mtfp\u001b[39;00m\n\u001b[1;32m---> 29\u001b[0m \u001b[38;5;28;01mfrom\u001b[39;00m \u001b[38;5;21;01mtf_agents\u001b[39;00m\u001b[38;5;21;01m.\u001b[39;00m\u001b[38;5;21;01mnetworks\u001b[39;00m \u001b[38;5;28;01mimport\u001b[39;00m network\n\u001b[0;32m     30\u001b[0m \u001b[38;5;28;01mfrom\u001b[39;00m \u001b[38;5;21;01mtf_agents\u001b[39;00m\u001b[38;5;21;01m.\u001b[39;00m\u001b[38;5;21;01mpolicies\u001b[39;00m \u001b[38;5;28;01mimport\u001b[39;00m tf_policy\n\u001b[0;32m     31\u001b[0m \u001b[38;5;28;01mfrom\u001b[39;00m \u001b[38;5;21;01mtf_agents\u001b[39;00m\u001b[38;5;21;01m.\u001b[39;00m\u001b[38;5;21;01mspecs\u001b[39;00m \u001b[38;5;28;01mimport\u001b[39;00m tensor_spec\n",
      "File \u001b[1;32m~\\school\\cs5510\\venv\\lib\\site-packages\\tf_agents\\networks\\__init__.py:18\u001b[0m\n\u001b[0;32m      1\u001b[0m \u001b[38;5;66;03m# coding=utf-8\u001b[39;00m\n\u001b[0;32m      2\u001b[0m \u001b[38;5;66;03m# Copyright 2018 The TF-Agents Authors.\u001b[39;00m\n\u001b[0;32m      3\u001b[0m \u001b[38;5;66;03m#\u001b[39;00m\n\u001b[1;32m   (...)\u001b[0m\n\u001b[0;32m     13\u001b[0m \u001b[38;5;66;03m# See the License for the specific language governing permissions and\u001b[39;00m\n\u001b[0;32m     14\u001b[0m \u001b[38;5;66;03m# limitations under the License.\u001b[39;00m\n\u001b[0;32m     16\u001b[0m \u001b[38;5;124;03m\"\"\"Networks Module.\"\"\"\u001b[39;00m\n\u001b[1;32m---> 18\u001b[0m \u001b[38;5;28;01mfrom\u001b[39;00m \u001b[38;5;21;01mtf_agents\u001b[39;00m\u001b[38;5;21;01m.\u001b[39;00m\u001b[38;5;21;01mnetworks\u001b[39;00m \u001b[38;5;28;01mimport\u001b[39;00m actor_distribution_network\n\u001b[0;32m     19\u001b[0m \u001b[38;5;28;01mfrom\u001b[39;00m \u001b[38;5;21;01mtf_agents\u001b[39;00m\u001b[38;5;21;01m.\u001b[39;00m\u001b[38;5;21;01mnetworks\u001b[39;00m \u001b[38;5;28;01mimport\u001b[39;00m actor_distribution_rnn_network\n\u001b[0;32m     20\u001b[0m \u001b[38;5;28;01mfrom\u001b[39;00m \u001b[38;5;21;01mtf_agents\u001b[39;00m\u001b[38;5;21;01m.\u001b[39;00m\u001b[38;5;21;01mnetworks\u001b[39;00m \u001b[38;5;28;01mimport\u001b[39;00m bias_layer\n",
      "File \u001b[1;32m~\\school\\cs5510\\venv\\lib\\site-packages\\tf_agents\\networks\\actor_distribution_network.py:26\u001b[0m\n\u001b[0;32m     23\u001b[0m \u001b[38;5;28;01mimport\u001b[39;00m \u001b[38;5;21;01mnumpy\u001b[39;00m \u001b[38;5;28;01mas\u001b[39;00m \u001b[38;5;21;01mnp\u001b[39;00m\n\u001b[0;32m     24\u001b[0m \u001b[38;5;28;01mimport\u001b[39;00m \u001b[38;5;21;01mtensorflow\u001b[39;00m \u001b[38;5;28;01mas\u001b[39;00m \u001b[38;5;21;01mtf\u001b[39;00m  \u001b[38;5;66;03m# pylint: disable=g-explicit-tensorflow-version-import\u001b[39;00m\n\u001b[1;32m---> 26\u001b[0m \u001b[38;5;28;01mfrom\u001b[39;00m \u001b[38;5;21;01mtf_agents\u001b[39;00m\u001b[38;5;21;01m.\u001b[39;00m\u001b[38;5;21;01mnetworks\u001b[39;00m \u001b[38;5;28;01mimport\u001b[39;00m categorical_projection_network\n\u001b[0;32m     27\u001b[0m \u001b[38;5;28;01mfrom\u001b[39;00m \u001b[38;5;21;01mtf_agents\u001b[39;00m\u001b[38;5;21;01m.\u001b[39;00m\u001b[38;5;21;01mnetworks\u001b[39;00m \u001b[38;5;28;01mimport\u001b[39;00m encoding_network\n\u001b[0;32m     28\u001b[0m \u001b[38;5;28;01mfrom\u001b[39;00m \u001b[38;5;21;01mtf_agents\u001b[39;00m\u001b[38;5;21;01m.\u001b[39;00m\u001b[38;5;21;01mnetworks\u001b[39;00m \u001b[38;5;28;01mimport\u001b[39;00m network\n",
      "File \u001b[1;32m~\\school\\cs5510\\venv\\lib\\site-packages\\tf_agents\\networks\\categorical_projection_network.py:26\u001b[0m\n\u001b[0;32m     23\u001b[0m \u001b[38;5;28;01mimport\u001b[39;00m \u001b[38;5;21;01mtensorflow\u001b[39;00m \u001b[38;5;28;01mas\u001b[39;00m \u001b[38;5;21;01mtf\u001b[39;00m  \u001b[38;5;66;03m# pylint: disable=g-explicit-tensorflow-version-import\u001b[39;00m\n\u001b[0;32m     24\u001b[0m \u001b[38;5;28;01mimport\u001b[39;00m \u001b[38;5;21;01mtensorflow_probability\u001b[39;00m \u001b[38;5;28;01mas\u001b[39;00m \u001b[38;5;21;01mtfp\u001b[39;00m\n\u001b[1;32m---> 26\u001b[0m \u001b[38;5;28;01mfrom\u001b[39;00m \u001b[38;5;21;01mtf_agents\u001b[39;00m\u001b[38;5;21;01m.\u001b[39;00m\u001b[38;5;21;01mnetworks\u001b[39;00m \u001b[38;5;28;01mimport\u001b[39;00m network\n\u001b[0;32m     27\u001b[0m \u001b[38;5;28;01mfrom\u001b[39;00m \u001b[38;5;21;01mtf_agents\u001b[39;00m\u001b[38;5;21;01m.\u001b[39;00m\u001b[38;5;21;01mnetworks\u001b[39;00m \u001b[38;5;28;01mimport\u001b[39;00m utils\n\u001b[0;32m     28\u001b[0m \u001b[38;5;28;01mfrom\u001b[39;00m \u001b[38;5;21;01mtf_agents\u001b[39;00m\u001b[38;5;21;01m.\u001b[39;00m\u001b[38;5;21;01mspecs\u001b[39;00m \u001b[38;5;28;01mimport\u001b[39;00m distribution_spec\n",
      "File \u001b[1;32m~\\school\\cs5510\\venv\\lib\\site-packages\\tf_agents\\networks\\network.py:33\u001b[0m\n\u001b[0;32m     30\u001b[0m \u001b[38;5;28;01mfrom\u001b[39;00m \u001b[38;5;21;01mtf_agents\u001b[39;00m\u001b[38;5;21;01m.\u001b[39;00m\u001b[38;5;21;01mutils\u001b[39;00m \u001b[38;5;28;01mimport\u001b[39;00m common\n\u001b[0;32m     32\u001b[0m \u001b[38;5;66;03m# pylint:disable=g-direct-tensorflow-import\u001b[39;00m\n\u001b[1;32m---> 33\u001b[0m \u001b[38;5;28;01mfrom\u001b[39;00m \u001b[38;5;21;01mtensorflow\u001b[39;00m\u001b[38;5;21;01m.\u001b[39;00m\u001b[38;5;21;01mpython\u001b[39;00m\u001b[38;5;21;01m.\u001b[39;00m\u001b[38;5;21;01mkeras\u001b[39;00m\u001b[38;5;21;01m.\u001b[39;00m\u001b[38;5;21;01mengine\u001b[39;00m \u001b[38;5;28;01mimport\u001b[39;00m network \u001b[38;5;28;01mas\u001b[39;00m keras_network  \u001b[38;5;66;03m# TF internal\u001b[39;00m\n\u001b[0;32m     34\u001b[0m \u001b[38;5;28;01mfrom\u001b[39;00m \u001b[38;5;21;01mtensorflow\u001b[39;00m\u001b[38;5;21;01m.\u001b[39;00m\u001b[38;5;21;01mpython\u001b[39;00m\u001b[38;5;21;01m.\u001b[39;00m\u001b[38;5;21;01mtraining\u001b[39;00m\u001b[38;5;21;01m.\u001b[39;00m\u001b[38;5;21;01mtracking\u001b[39;00m \u001b[38;5;28;01mimport\u001b[39;00m base  \u001b[38;5;66;03m# TF internal\u001b[39;00m\n\u001b[0;32m     35\u001b[0m \u001b[38;5;28;01mfrom\u001b[39;00m \u001b[38;5;21;01mtensorflow\u001b[39;00m\u001b[38;5;21;01m.\u001b[39;00m\u001b[38;5;21;01mpython\u001b[39;00m\u001b[38;5;21;01m.\u001b[39;00m\u001b[38;5;21;01mutil\u001b[39;00m \u001b[38;5;28;01mimport\u001b[39;00m tf_decorator  \u001b[38;5;66;03m# TF internal\u001b[39;00m\n",
      "\u001b[1;31mImportError\u001b[0m: cannot import name 'network' from 'tensorflow.python.keras.engine' (C:\\Users\\miles\\school\\cs5510\\venv\\lib\\site-packages\\tensorflow\\python\\keras\\engine\\__init__.py)"
     ]
    }
   ],
   "source": [
    "from tensorflow.keras.layers import Dense\n",
    "from tf_agents.environments import suite_gym\n",
    "from tf_agents.environments import tf_py_environment\n",
    "from tf_agents.specs import tensor_spec\n",
    "from tf_agents.networks import sequential\n",
    "from tf_agents.policies.boltzmann_policy import BoltzmannPolicy\n",
    "from tf_agents.policies import TFPolicy, random_tf_policy\n",
    "from tf_agents.drivers import py_driver\n",
    "from tf_agents.policies import py_tf_eager_policy\n",
    "\n",
    "import numpy as np\n",
    "import reverb\n",
    "\n",
    "import tensorflow as tf\n",
    "\n",
    "from tf_agents.agents.dqn import dqn_agent\n",
    "from tf_agents.utils import common"
   ]
  },
  {
   "cell_type": "code",
   "execution_count": 16,
   "metadata": {},
   "outputs": [
    {
     "name": "stdout",
     "output_type": "stream",
     "text": [
      "Box([-4.8000002e+00 -3.4028235e+38 -4.1887903e-01 -3.4028235e+38], [4.8000002e+00 3.4028235e+38 4.1887903e-01 3.4028235e+38], (4,), float32)\n"
     ]
    }
   ],
   "source": [
    "# Basic setup for the nn\n",
    "train_gym_env = suite_gym.load('CartPole-v1')\n",
    "test_gym_env = suite_gym.load('CartPole-v1')\n",
    "\n",
    "print(train_gym_env.observation_space)"
   ]
  },
  {
   "cell_type": "code",
   "execution_count": 17,
   "metadata": {},
   "outputs": [],
   "source": [
    "# convert envs to tensors for tf\n",
    "train_env = tf_py_environment.TFPyEnvironment(train_gym_env)\n",
    "test_env = tf_py_environment.TFPyEnvironment(test_gym_env)"
   ]
  },
  {
   "cell_type": "code",
   "execution_count": 18,
   "metadata": {},
   "outputs": [],
   "source": [
    "action_tensor_spec = tensor_spec.from_spec(train_env.action_spec())\n",
    "num_actions = action_tensor_spec.maximum - action_tensor_spec.minimum + 1\n",
    "\n",
    "# dense net\n",
    "layers = [Dense(16, activation=\"relu\"), Dense(32, activation=\"relu\"), Dense(64, activation=\"relu\")]\n",
    "\n",
    "# output layer\n",
    "output = Dense(num_actions, activation=\"sigmoid\")\n",
    "\n",
    "model = sequential.Sequential(layers + [output])\n"
   ]
  },
  {
   "cell_type": "code",
   "execution_count": null,
   "metadata": {},
   "outputs": [],
   "source": []
  },
  {
   "cell_type": "code",
   "execution_count": 19,
   "metadata": {},
   "outputs": [],
   "source": [
    "optimizer = tf.keras.optimizers.Adam(learning_rate=1e-3)\n",
    "\n",
    "train_step_counter = tf.Variable(0)\n",
    "\n",
    "agent = dqn_agent.DqnAgent(\n",
    "    train_env.time_step_spec(),\n",
    "    train_env.action_spec(),\n",
    "    q_network=model,\n",
    "    optimizer=optimizer,\n",
    "    td_errors_loss_fn=common.element_wise_squared_loss,\n",
    "    train_step_counter=train_step_counter)\n",
    "\n",
    "agent.initialize()"
   ]
  },
  {
   "cell_type": "code",
   "execution_count": 20,
   "metadata": {},
   "outputs": [],
   "source": [
    "eval_policy = agent.policy\n",
    "collect_policy = agent.collect_policy"
   ]
  },
  {
   "cell_type": "code",
   "execution_count": 21,
   "metadata": {},
   "outputs": [],
   "source": [
    "random_policy = random_tf_policy.RandomTFPolicy(train_env.time_step_spec(),\n",
    "                                                train_env.action_spec())\n",
    "example_environment = tf_py_environment.TFPyEnvironment(\n",
    "    suite_gym.load('CartPole-v1'))\n",
    "time_step = example_environment.reset()\n"
   ]
  },
  {
   "cell_type": "code",
   "execution_count": 22,
   "metadata": {},
   "outputs": [
    {
     "data": {
      "text/plain": [
       "21.02"
      ]
     },
     "execution_count": 22,
     "metadata": {},
     "output_type": "execute_result"
    }
   ],
   "source": [
    "def compute_avg_return(environment, policy, num_episodes=10):\n",
    "\n",
    "\ttotal_return = 0.0\n",
    "\tfor _ in range(num_episodes):\n",
    "\n",
    "\t\ttime_step = environment.reset()\n",
    "\t\tepisode_return = 0.0\n",
    "\n",
    "\t\twhile not time_step.is_last():\n",
    "\t\t\taction_step = policy.action(time_step)\n",
    "\t\t\ttime_step = environment.step(action_step.action)\n",
    "\t\t\tepisode_return += time_step.reward\n",
    "\t\ttotal_return += episode_return\n",
    "\n",
    "\tavg_return = total_return / num_episodes\n",
    "\treturn avg_return.numpy()[0]\n",
    "\n",
    "policy = BoltzmannPolicy(policy=agent.policy)\n",
    "compute_avg_return(example_environment, random_policy, 100)"
   ]
  },
  {
   "cell_type": "code",
   "execution_count": 12,
   "metadata": {},
   "outputs": [
    {
     "name": "stderr",
     "output_type": "stream",
     "text": [
      "IMAGEIO FFMPEG_WRITER WARNING: input image is not divisible by macro_block_size=16, resizing from (600, 400) to (608, 400) to ensure video compatibility with most codecs and players. To prevent resizing, make your input image divisible by the macro_block_size or set the macro_block_size to 1 (risking incompatibility).\n"
     ]
    },
    {
     "data": {
      "text/html": [
       "\n",
       "  <video width=\"640\" height=\"480\" controls>\n",
       "    <source src=\"data:video/mp4;base64,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\" type=\"video/mp4\">\n",
       "  Your browser does not support the video tag.\n",
       "  </video>"
      ],
      "text/plain": [
       "<IPython.core.display.HTML object>"
      ]
     },
     "execution_count": 12,
     "metadata": {},
     "output_type": "execute_result"
    }
   ],
   "source": [
    "import base64\n",
    "import IPython\n",
    "import imageio\n",
    "\n",
    "\n",
    "def embed_mp4(filename):\n",
    "  \"\"\"Embeds an mp4 file in the notebook.\"\"\"\n",
    "  video = open(filename,'rb').read()\n",
    "  b64 = base64.b64encode(video)\n",
    "  tag = '''\n",
    "  <video width=\"640\" height=\"480\" controls>\n",
    "    <source src=\"data:video/mp4;base64,{0}\" type=\"video/mp4\">\n",
    "  Your browser does not support the video tag.\n",
    "  </video>'''.format(b64.decode())\n",
    "\n",
    "  return IPython.display.HTML(tag)\n",
    "\n",
    "def create_policy_eval_video(policy, filename, num_episodes=5, fps=30):\n",
    "  filename = filename + \".mp4\"\n",
    "  with imageio.get_writer(filename, fps=fps) as video:\n",
    "    for _ in range(num_episodes):\n",
    "      time_step = test_env.reset()\n",
    "      video.append_data(test_gym_env.render())\n",
    "      while not time_step.is_last():\n",
    "        action_step = policy.action(time_step)\n",
    "        time_step = test_env.step(action_step.action)\n",
    "        video.append_data(test_gym_env.render())\n",
    "  return embed_mp4(filename)\n",
    "\n",
    "create_policy_eval_video(agent.policy, \"untrained-agent\")"
   ]
  },
  {
   "cell_type": "code",
   "execution_count": 29,
   "metadata": {},
   "outputs": [],
   "source": [
    "env = suite_gym.load('CartPole-v1')"
   ]
  },
  {
   "cell_type": "code",
   "execution_count": 33,
   "metadata": {},
   "outputs": [
    {
     "ename": "NameError",
     "evalue": "name 'reverb' is not defined",
     "output_type": "error",
     "traceback": [
      "\u001b[1;31m---------------------------------------------------------------------------\u001b[0m",
      "\u001b[1;31mNameError\u001b[0m                                 Traceback (most recent call last)",
      "Cell \u001b[1;32mIn[33], line 7\u001b[0m\n\u001b[0;32m      2\u001b[0m replay_buffer_signature \u001b[38;5;241m=\u001b[39m tensor_spec\u001b[38;5;241m.\u001b[39mfrom_spec(\n\u001b[0;32m      3\u001b[0m       agent\u001b[38;5;241m.\u001b[39mcollect_data_spec)\n\u001b[0;32m      4\u001b[0m replay_buffer_signature \u001b[38;5;241m=\u001b[39m tensor_spec\u001b[38;5;241m.\u001b[39madd_outer_dim(\n\u001b[0;32m      5\u001b[0m     replay_buffer_signature)\n\u001b[1;32m----> 7\u001b[0m table \u001b[38;5;241m=\u001b[39m \u001b[43mreverb\u001b[49m\u001b[38;5;241m.\u001b[39mTable(\n\u001b[0;32m      8\u001b[0m     table_name,\n\u001b[0;32m      9\u001b[0m     max_size\u001b[38;5;241m=\u001b[39mreplay_buffer_max_length,\n\u001b[0;32m     10\u001b[0m     sampler\u001b[38;5;241m=\u001b[39mreverb\u001b[38;5;241m.\u001b[39mselectors\u001b[38;5;241m.\u001b[39mUniform(),\n\u001b[0;32m     11\u001b[0m     remover\u001b[38;5;241m=\u001b[39mreverb\u001b[38;5;241m.\u001b[39mselectors\u001b[38;5;241m.\u001b[39mFifo(),\n\u001b[0;32m     12\u001b[0m     rate_limiter\u001b[38;5;241m=\u001b[39mreverb\u001b[38;5;241m.\u001b[39mrate_limiters\u001b[38;5;241m.\u001b[39mMinSize(\u001b[38;5;241m1\u001b[39m),\n\u001b[0;32m     13\u001b[0m     signature\u001b[38;5;241m=\u001b[39mreplay_buffer_signature)\n\u001b[0;32m     15\u001b[0m reverb_server \u001b[38;5;241m=\u001b[39m reverb\u001b[38;5;241m.\u001b[39mServer([table])\n\u001b[0;32m     17\u001b[0m replay_buffer \u001b[38;5;241m=\u001b[39m reverb_replay_buffer\u001b[38;5;241m.\u001b[39mReverbReplayBuffer(\n\u001b[0;32m     18\u001b[0m     agent\u001b[38;5;241m.\u001b[39mcollect_data_spec,\n\u001b[0;32m     19\u001b[0m     table_name\u001b[38;5;241m=\u001b[39mtable_name,\n\u001b[0;32m     20\u001b[0m     sequence_length\u001b[38;5;241m=\u001b[39m\u001b[38;5;241m2\u001b[39m,\n\u001b[0;32m     21\u001b[0m     local_server\u001b[38;5;241m=\u001b[39mreverb_server)\n",
      "\u001b[1;31mNameError\u001b[0m: name 'reverb' is not defined"
     ]
    }
   ],
   "source": [
    "table_name = 'uniform_table'\n",
    "replay_buffer_signature = tensor_spec.from_spec(\n",
    "      agent.collect_data_spec)\n",
    "replay_buffer_signature = tensor_spec.add_outer_dim(\n",
    "    replay_buffer_signature)\n",
    "\n",
    "table = reverb.Table(\n",
    "    table_name,\n",
    "    max_size=replay_buffer_max_length,\n",
    "    sampler=reverb.selectors.Uniform(),\n",
    "    remover=reverb.selectors.Fifo(),\n",
    "    rate_limiter=reverb.rate_limiters.MinSize(1),\n",
    "    signature=replay_buffer_signature)\n",
    "\n",
    "reverb_server = reverb.Server([table])\n",
    "\n",
    "replay_buffer = reverb_replay_buffer.ReverbReplayBuffer(\n",
    "    agent.collect_data_spec,\n",
    "    table_name=table_name,\n",
    "    sequence_length=2,\n",
    "    local_server=reverb_server)\n",
    "\n",
    "rb_observer = reverb_utils.ReverbAddTrajectoryObserver(\n",
    "  replay_buffer.py_client,\n",
    "  table_name,\n",
    "  sequence_length=2)\n"
   ]
  },
  {
   "cell_type": "code",
   "execution_count": 32,
   "metadata": {},
   "outputs": [
    {
     "ename": "NameError",
     "evalue": "name 'rb_observer' is not defined",
     "output_type": "error",
     "traceback": [
      "\u001b[1;31m---------------------------------------------------------------------------\u001b[0m",
      "\u001b[1;31mNameError\u001b[0m                                 Traceback (most recent call last)",
      "Cell \u001b[1;32mIn[32], line 26\u001b[0m\n\u001b[0;32m     19\u001b[0m time_step \u001b[38;5;241m=\u001b[39m train_env\u001b[38;5;241m.\u001b[39mreset()\n\u001b[0;32m     21\u001b[0m \u001b[38;5;66;03m# Create a driver to collect experience.\u001b[39;00m\n\u001b[0;32m     22\u001b[0m collect_driver \u001b[38;5;241m=\u001b[39m py_driver\u001b[38;5;241m.\u001b[39mPyDriver(\n\u001b[0;32m     23\u001b[0m     env,\n\u001b[0;32m     24\u001b[0m     py_tf_eager_policy\u001b[38;5;241m.\u001b[39mPyTFEagerPolicy(\n\u001b[0;32m     25\u001b[0m       agent\u001b[38;5;241m.\u001b[39mcollect_policy, use_tf_function\u001b[38;5;241m=\u001b[39m\u001b[38;5;28;01mTrue\u001b[39;00m),\n\u001b[1;32m---> 26\u001b[0m     [\u001b[43mrb_observer\u001b[49m],\n\u001b[0;32m     27\u001b[0m     max_steps\u001b[38;5;241m=\u001b[39mcollect_steps_per_iteration)\n\u001b[0;32m     29\u001b[0m \u001b[38;5;28;01mfor\u001b[39;00m _ \u001b[38;5;129;01min\u001b[39;00m \u001b[38;5;28mrange\u001b[39m(num_iterations):\n\u001b[0;32m     30\u001b[0m \n\u001b[0;32m     31\u001b[0m   \u001b[38;5;66;03m# Collect a few steps and save to the replay buffer.\u001b[39;00m\n\u001b[0;32m     32\u001b[0m   time_step, _ \u001b[38;5;241m=\u001b[39m collect_driver\u001b[38;5;241m.\u001b[39mrun(time_step)\n",
      "\u001b[1;31mNameError\u001b[0m: name 'rb_observer' is not defined"
     ]
    }
   ],
   "source": [
    "try:\n",
    "  %%time\n",
    "except:\n",
    "  pass\n",
    "\n",
    "num_eval_episodes = 10\n",
    "\n",
    "# (Optional) Optimize by wrapping some of the code in a graph using TF function.\n",
    "agent.train = common.function(agent.train)\n",
    "\n",
    "# Reset the train step.\n",
    "agent.train_step_counter.assign(0)\n",
    "\n",
    "# Evaluate the agent's policy once before training.\n",
    "avg_return = compute_avg_return(test_env, agent.policy, num_eval_episodes)\n",
    "returns = [avg_return]\n",
    "\n",
    "# Reset the environment.\n",
    "time_step = train_env.reset()\n",
    "\n",
    "# Create a driver to collect experience.\n",
    "collect_driver = py_driver.PyDriver(\n",
    "    env,\n",
    "    py_tf_eager_policy.PyTFEagerPolicy(\n",
    "      agent.collect_policy, use_tf_function=True),\n",
    "    [rb_observer],\n",
    "    max_steps=collect_steps_per_iteration)\n",
    "\n",
    "for _ in range(num_iterations):\n",
    "\n",
    "  # Collect a few steps and save to the replay buffer.\n",
    "  time_step, _ = collect_driver.run(time_step)\n",
    "\n",
    "  # Sample a batch of data from the buffer and update the agent's network.\n",
    "  experience, unused_info = next(iterator)\n",
    "  train_loss = agent.train(experience).loss\n",
    "\n",
    "  step = agent.train_step_counter.numpy()\n",
    "\n",
    "  if step % log_interval == 0:\n",
    "    print('step = {0}: loss = {1}'.format(step, train_loss))\n",
    "\n",
    "  if step % eval_interval == 0:\n",
    "    avg_return = compute_avg_return(test_env, agent.policy, num_eval_episodes)\n",
    "    print('step = {0}: Average Return = {1}'.format(step, avg_return))\n",
    "    returns.append(avg_return)\n"
   ]
  },
  {
   "cell_type": "code",
   "execution_count": null,
   "metadata": {},
   "outputs": [],
   "source": []
  }
 ],
 "metadata": {
  "kernelspec": {
   "display_name": "Python 3 (ipykernel)",
   "language": "python",
   "name": "python3"
  },
  "language_info": {
   "codemirror_mode": {
    "name": "ipython",
    "version": 3
   },
   "file_extension": ".py",
   "mimetype": "text/x-python",
   "name": "python",
   "nbconvert_exporter": "python",
   "pygments_lexer": "ipython3",
   "version": "3.10.10"
  }
 },
 "nbformat": 4,
 "nbformat_minor": 4
}
