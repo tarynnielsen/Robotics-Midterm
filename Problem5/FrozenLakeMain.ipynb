{
 "cells": [
  {
   "cell_type": "markdown",
   "id": "a3d2d9d4-033d-48f6-b180-8c8289c78584",
   "metadata": {},
   "source": [
    "# Code adapted from https://www.kaggle.com/code/fanbyprinciple/solving-frozen-lake-with-8x8-policy-iteration"
   ]
  },
  {
   "cell_type": "code",
   "execution_count": 24,
   "id": "e37d1466-a2fe-44eb-a9c8-7f15383419c8",
   "metadata": {},
   "outputs": [],
   "source": [
    "import gymnasium as gym\n",
    "from gym.envs.toy_text.frozen_lake import generate_random_map\n",
    "import numpy as np \n",
    "import random\n",
    "import time\n",
    "\n",
    "\n",
    "from IPython.display import clear_output"
   ]
  },
  {
   "cell_type": "code",
   "execution_count": 89,
   "id": "582c6503-c931-4f6d-a1e5-b4deefe97b2e",
   "metadata": {},
   "outputs": [],
   "source": [
    "\n",
    "def eval_state_action(V, s, a, gamma=0.99):\n",
    "    return np.sum([p * (rew + gamma*V[next_s]) for p, next_s, rew, _ in env.P[s][a]])\n",
    "\n",
    "def policy_evaluation(V, policy, eps=0.0001):\n",
    "    '''\n",
    "    Policy evaluation. Update the value function until it reach a steady state\n",
    "    '''\n",
    "    while True:\n",
    "        delta = 0\n",
    "        # loop over all states\n",
    "        for s in range(nS):\n",
    "            old_v = V[s]\n",
    "            # update V[s] using the Bellman equation\n",
    "            V[s] = eval_state_action(V, s, policy[s])\n",
    "            delta = max(delta, np.abs(old_v - V[s]))\n",
    "\n",
    "        if delta < eps:\n",
    "            break\n",
    "\n",
    "def policy_improvement(V, policy):\n",
    "    '''\n",
    "    Policy improvement. Update the policy based on the value function\n",
    "    '''\n",
    "    policy_stable = True\n",
    "    for s in range(nS):\n",
    "        old_a = policy[s]\n",
    "        # update the policy with the action that bring to the highest state value\n",
    "        policy[s] = np.argmax([eval_state_action(V, s, a) for a in range(nA)])\n",
    "        if old_a != policy[s]: \n",
    "            policy_stable = False\n",
    "\n",
    "    return policy_stable\n",
    "\n",
    "\n",
    "def run_episodes(env, policy, num_games=5000):\n",
    "    '''\n",
    "    Run some games to test a policy\n",
    "    '''\n",
    "    tot_rew = 0\n",
    "    state, prob = env.reset()\n",
    "\n",
    "    for _ in range(num_games):\n",
    "        done = False\n",
    "        while not done:\n",
    "            # select the action accordingly to the policy\n",
    "#             print(env.step(policy[state]))\n",
    "#             break\n",
    "            next_state, reward, done,_,_ = env.step(policy[state])\n",
    "                \n",
    "            state = next_state\n",
    "            tot_rew += reward \n",
    "            if done:\n",
    "                state, prob = env.reset()\n",
    "\n",
    "    print('Won %i of %i games!'%(tot_rew, num_games))"
   ]
  },
  {
   "cell_type": "code",
   "execution_count": 120,
   "id": "b470cfcd-0beb-4c97-aebb-2b3690fec2ae",
   "metadata": {},
   "outputs": [],
   "source": [
    "class ColderLake(gym.Env):\n",
    "    def __init__(self):\n",
    "        self.env = gym.make('FrozenLake-v1', desc=randomMap, is_slippery=True)\n",
    "        self.action_space = self.env.action_space\n",
    "        self.observation_space = self.env.observation_space\n",
    "\n",
    "    def reset(self):\n",
    "        return self.env.reset()\n",
    "\n",
    "    def step(self, action):\n",
    "\n",
    "        next_state, reward, done,_,_ = self.env.step(action)\n",
    "        \n",
    "        if random.randint(1,100)  1:\n",
    "            done = True\n",
    "            reward = 0\n",
    "            \n",
    "        return next_state, reward, done,_,_ \n",
    "\n",
    "    def render(self):\n",
    "        return self.env.render()\n",
    "\n",
    "    def close(self):\n",
    "        self.env.close()"
   ]
  },
  {
   "cell_type": "code",
   "execution_count": 123,
   "id": "ebf10501-1942-4782-a567-f985a06890cd",
   "metadata": {},
   "outputs": [
    {
     "name": "stdout",
     "output_type": "stream",
     "text": [
      "Converged after 11 policy iterations\n",
      "Won 5000 of 5000 games!\n",
      "Cold lake converged after 11 policy iterations\n",
      "Won 1869 of 5000 games!\n"
     ]
    }
   ],
   "source": [
    "randomMap = generate_random_map(size=8)\n",
    "\n",
    "env = gym.make('FrozenLake-v1', desc=randomMap, is_slippery=True)\n",
    "\n",
    "env = env.unwrapped\n",
    "\n",
    "# spaces dimension\n",
    "nA = env.action_space.n\n",
    "nS = env.observation_space.n\n",
    "\n",
    "# initializing value function and policy\n",
    "V = np.zeros(nS)\n",
    "policy = np.zeros(nS)\n",
    "\n",
    "# some useful variable\n",
    "policy_stable = False\n",
    "it = 0\n",
    "\n",
    "while not policy_stable:\n",
    "    policy_evaluation(V, policy)\n",
    "    policy_stable = policy_improvement(V, policy)\n",
    "    it += 1\n",
    "\n",
    "print('Converged after %i policy iterations'%(it))\n",
    "run_episodes(env, policy)\n",
    "print('Cold lake converged after %i policy iterations'%(it))\n",
    "run_episodes(ColderLake(), policy)"
   ]
  },
  {
   "cell_type": "code",
   "execution_count": null,
   "id": "d57718db-e9b3-4022-85b9-9e13bf2d9758",
   "metadata": {},
   "outputs": [],
   "source": []
  }
 ],
 "metadata": {
  "kernelspec": {
   "display_name": "Python 3 (ipykernel)",
   "language": "python",
   "name": "python3"
  },
  "language_info": {
   "codemirror_mode": {
    "name": "ipython",
    "version": 3
   },
   "file_extension": ".py",
   "mimetype": "text/x-python",
   "name": "python",
   "nbconvert_exporter": "python",
   "pygments_lexer": "ipython3",
   "version": "3.10.10"
  }
 },
 "nbformat": 4,
 "nbformat_minor": 5
}
